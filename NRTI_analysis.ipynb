{
 "cells": [
  {
   "cell_type": "markdown",
   "metadata": {},
   "source": [
    "# Nucleoside Reverse Transcriptase Inhibitor Classifier\n",
    "\n",
    "## Data preprocessing\n",
    "Data has been acquired fron Stanford HIV database. \n",
    "It is a genotype-phenotype correlation dataset that contains isolates on which in vitro susceptibility tests were performed using the PhenoSense assay. Protease inhibitor resistance dataset is the one being studied.\n",
    "The link to reaquire data is below. \n",
    "\n",
    "curl -o NRTI_dataset.txt https://hivdb.stanford.edu/_wrapper/download/GenoPhenoDatasets/NRTI_DataSet.txt"
   ]
  },
  {
   "cell_type": "code",
   "execution_count": null,
   "metadata": {},
   "outputs": [],
   "source": [
    "# Installing the required packages\n",
    "%pip install pandas\n",
    "%pip install numpy\n",
    "%pip install transformers\n",
    "%pip install torch\n",
    "%pip install scikit-learn"
   ]
  },
  {
   "cell_type": "code",
   "execution_count": null,
   "metadata": {},
   "outputs": [],
   "source": []
  }
 ],
 "metadata": {
  "language_info": {
   "name": "python"
  }
 },
 "nbformat": 4,
 "nbformat_minor": 2
}
