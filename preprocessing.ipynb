{
 "cells": [
  {
   "cell_type": "markdown",
   "metadata": {},
   "source": [
    "### Preprocess the data\n",
    "Data has been acquired fron Stanford HIV database. \n",
    "It is a genotype-phenotype correlation dataset that contains isolates on which in vitro susceptibility tests were performed using the PhenoSense assay. Protease inhibitor resistance dataset is the one being studied.\n",
    "The link to reaquire data is below. \n",
    "\n",
    "curl -o PI_dataset.txt https://hivdb.stanford.edu/download/GenoPhenoDatasets/PI_DataSet.txt"
   ]
  },
  {
   "cell_type": "code",
   "execution_count": 1,
   "metadata": {},
   "outputs": [
    {
     "name": "stdout",
     "output_type": "stream",
     "text": [
      "Requirement already satisfied: pandas in ./.venv/lib/python3.13/site-packages (2.2.3)\n",
      "Requirement already satisfied: numpy>=1.26.0 in ./.venv/lib/python3.13/site-packages (from pandas) (2.2.4)\n",
      "Requirement already satisfied: python-dateutil>=2.8.2 in ./.venv/lib/python3.13/site-packages (from pandas) (2.9.0.post0)\n",
      "Requirement already satisfied: pytz>=2020.1 in ./.venv/lib/python3.13/site-packages (from pandas) (2025.1)\n",
      "Requirement already satisfied: tzdata>=2022.7 in ./.venv/lib/python3.13/site-packages (from pandas) (2025.1)\n",
      "Requirement already satisfied: six>=1.5 in ./.venv/lib/python3.13/site-packages (from python-dateutil>=2.8.2->pandas) (1.17.0)\n",
      "Note: you may need to restart the kernel to use updated packages.\n",
      "Requirement already satisfied: numpy in ./.venv/lib/python3.13/site-packages (2.2.4)\n",
      "Note: you may need to restart the kernel to use updated packages.\n",
      "Requirement already satisfied: transformers in ./.venv/lib/python3.13/site-packages (4.50.0)\n",
      "Requirement already satisfied: filelock in ./.venv/lib/python3.13/site-packages (from transformers) (3.18.0)\n",
      "Requirement already satisfied: huggingface-hub<1.0,>=0.26.0 in ./.venv/lib/python3.13/site-packages (from transformers) (0.29.3)\n",
      "Requirement already satisfied: numpy>=1.17 in ./.venv/lib/python3.13/site-packages (from transformers) (2.2.4)\n",
      "Requirement already satisfied: packaging>=20.0 in ./.venv/lib/python3.13/site-packages (from transformers) (24.2)\n",
      "Requirement already satisfied: pyyaml>=5.1 in ./.venv/lib/python3.13/site-packages (from transformers) (6.0.2)\n",
      "Requirement already satisfied: regex!=2019.12.17 in ./.venv/lib/python3.13/site-packages (from transformers) (2024.11.6)\n",
      "Requirement already satisfied: requests in ./.venv/lib/python3.13/site-packages (from transformers) (2.32.3)\n",
      "Requirement already satisfied: tokenizers<0.22,>=0.21 in ./.venv/lib/python3.13/site-packages (from transformers) (0.21.1)\n",
      "Requirement already satisfied: safetensors>=0.4.3 in ./.venv/lib/python3.13/site-packages (from transformers) (0.5.3)\n",
      "Requirement already satisfied: tqdm>=4.27 in ./.venv/lib/python3.13/site-packages (from transformers) (4.67.1)\n",
      "Requirement already satisfied: fsspec>=2023.5.0 in ./.venv/lib/python3.13/site-packages (from huggingface-hub<1.0,>=0.26.0->transformers) (2025.3.0)\n",
      "Requirement already satisfied: typing-extensions>=3.7.4.3 in ./.venv/lib/python3.13/site-packages (from huggingface-hub<1.0,>=0.26.0->transformers) (4.12.2)\n",
      "Requirement already satisfied: charset-normalizer<4,>=2 in ./.venv/lib/python3.13/site-packages (from requests->transformers) (3.4.1)\n",
      "Requirement already satisfied: idna<4,>=2.5 in ./.venv/lib/python3.13/site-packages (from requests->transformers) (3.10)\n",
      "Requirement already satisfied: urllib3<3,>=1.21.1 in ./.venv/lib/python3.13/site-packages (from requests->transformers) (2.3.0)\n",
      "Requirement already satisfied: certifi>=2017.4.17 in ./.venv/lib/python3.13/site-packages (from requests->transformers) (2025.1.31)\n",
      "Note: you may need to restart the kernel to use updated packages.\n",
      "Requirement already satisfied: torch in ./.venv/lib/python3.13/site-packages (2.6.0)\n",
      "Requirement already satisfied: filelock in ./.venv/lib/python3.13/site-packages (from torch) (3.18.0)\n",
      "Requirement already satisfied: typing-extensions>=4.10.0 in ./.venv/lib/python3.13/site-packages (from torch) (4.12.2)\n",
      "Requirement already satisfied: networkx in ./.venv/lib/python3.13/site-packages (from torch) (3.4.2)\n",
      "Requirement already satisfied: jinja2 in ./.venv/lib/python3.13/site-packages (from torch) (3.1.6)\n",
      "Requirement already satisfied: fsspec in ./.venv/lib/python3.13/site-packages (from torch) (2025.3.0)\n",
      "Requirement already satisfied: setuptools in ./.venv/lib/python3.13/site-packages (from torch) (77.0.3)\n",
      "Requirement already satisfied: sympy==1.13.1 in ./.venv/lib/python3.13/site-packages (from torch) (1.13.1)\n",
      "Requirement already satisfied: mpmath<1.4,>=1.1.0 in ./.venv/lib/python3.13/site-packages (from sympy==1.13.1->torch) (1.3.0)\n",
      "Requirement already satisfied: MarkupSafe>=2.0 in ./.venv/lib/python3.13/site-packages (from jinja2->torch) (3.0.2)\n",
      "Note: you may need to restart the kernel to use updated packages.\n"
     ]
    }
   ],
   "source": [
    "# Installing the required packages\n",
    "%pip install pandas\n",
    "%pip install numpy\n",
    "%pip install transformers\n",
    "%pip install torch"
   ]
  },
  {
   "cell_type": "code",
   "execution_count": 5,
   "metadata": {},
   "outputs": [
    {
     "name": "stdout",
     "output_type": "stream",
     "text": [
      "Sample Formatted Sequence:\n",
      "P Q I T L W Q R P L V T I K I G G Q L K E A L L D T G A D N T V L E E M N L P G R W K P K M I G G I G G F I K V G Q Y D Q I L I E I C G H K A I G T V L V G P T P V N I I G R D L L T Q I G C T L N F\n"
     ]
    }
   ],
   "source": [
    "import pandas as pd\n",
    "\n",
    "# Define the consensus sequence for the protease inhibitor\n",
    "protease_consensus = \"PQITLWQRPLVTIKIGGQLKEALLDTGADDTVLEEMNLPGRWKPKMIGGIGGFIKVRQYDQILIEICGHKAIGTVLVGPTPVNIIGRNLLTQIGCTLNF\"\n",
    "\n",
    "#Load the dataset from the txt file we downloaded\n",
    "df = pd.read_csv(\"PI_dataset.txt\", sep=\"\\t\")\n",
    "\n",
    "# Verify that the sequence columns exist.\n",
    "# We'll filter columns whose names start with 'P' and are followed by digits.\n",
    "# This assumes that the sequence columns are named 'P1', 'P2', ..., 'P99'.\n",
    "p_columns = [col for col in df.columns if col.startswith(\"P\") and col[1:].isdigit()]\n",
    "\n",
    "# Sort the columns in numerical order (P1, P2, ..., P99)\n",
    "p_columns = sorted(p_columns, key=lambda x: int(x[1:]))\n",
    "\n",
    "# Check that we have exactly 99 positions (P1 to P99)\n",
    "# This should be the case as protease is a homodimer with each subunit having 99 amino acids \n",
    "if len(p_columns) != 99:\n",
    "    print(f\"Warning: Expected 99 sequence positions but found {len(p_columns)}\")\n",
    "\n",
    "def concatenate_sequence(row, columns, consensus_seq):\n",
    "    \"\"\"\n",
    "    Concatenate amino acid columns into a single sequence string.\n",
    "    Handling missing/ambiguous symbols (from the dataset description):\n",
    "      - If a cell is NaN, replace with 'X' (unknown).\n",
    "      - If the value is '.', replace with 'X' (unknown, no sequence data).\n",
    "      - If the value is '-', replace with the corresponding consensus residue.\n",
    "    \"\"\"\n",
    "    seq_list = []\n",
    "    # Enumerate over the sorted columns so we know the position (0-indexed)\n",
    "    for idx, col in enumerate(columns):\n",
    "        aa = row[col]\n",
    "        if pd.isna(aa):\n",
    "            # If the value is NaN, mark as unknown\n",
    "            aa = 'X'\n",
    "        else:\n",
    "            aa = str(aa).strip()\n",
    "            # Replace '.' with unknown, and '-' with the consensus residue\n",
    "            if aa == '.':\n",
    "                aa = 'X'\n",
    "            elif aa == '-':\n",
    "                aa = consensus_seq[idx]\n",
    "        seq_list.append(aa)\n",
    "    \n",
    "    # Join the amino acids into a continuous string (without spaces)\n",
    "    raw_seq = ''.join(seq_list)\n",
    "    \n",
    "    # Insert spaces between each amino acid for ProteinBERT tokenization\n",
    "    formatted_seq = \" \".join(list(raw_seq))\n",
    "    \n",
    "    return formatted_seq\n",
    "\n",
    "# Apply the function to each row to create a new column with the formatted sequence\n",
    "df[\"FormattedSequence\"] = df.apply(lambda row: concatenate_sequence(row, p_columns, protease_consensus), axis=1)\n",
    "\n",
    "# Display a sample formatted sequence\n",
    "print(\"Sample Formatted Sequence:\")\n",
    "print(df.loc[0, \"FormattedSequence\"])"
   ]
  },
  {
   "cell_type": "code",
   "execution_count": 6,
   "metadata": {},
   "outputs": [
    {
     "name": "stdout",
     "output_type": "stream",
     "text": [
      "torch.Size([1, 128])\n"
     ]
    }
   ],
   "source": [
    "from transformers import BertTokenizer\n",
    "\n",
    "tokenizer = BertTokenizer.from_pretrained(\"Rostlab/prot_bert\", do_lower_case=False)\n",
    "sample_encoding = tokenizer(\n",
    "    df.loc[0, \"FormattedSequence\"],\n",
    "    max_length=128,  # Adjust this based on your sequence length plus special tokens\n",
    "    padding='max_length',\n",
    "    truncation=True,\n",
    "    return_tensors=\"pt\"\n",
    ")\n",
    "print(sample_encoding.input_ids.shape)"
   ]
  },
  {
   "cell_type": "code",
   "execution_count": null,
   "metadata": {},
   "outputs": [],
   "source": []
  }
 ],
 "metadata": {
  "kernelspec": {
   "display_name": ".venv",
   "language": "python",
   "name": "python3"
  },
  "language_info": {
   "codemirror_mode": {
    "name": "ipython",
    "version": 3
   },
   "file_extension": ".py",
   "mimetype": "text/x-python",
   "name": "python",
   "nbconvert_exporter": "python",
   "pygments_lexer": "ipython3",
   "version": "3.13.2"
  }
 },
 "nbformat": 4,
 "nbformat_minor": 2
}
